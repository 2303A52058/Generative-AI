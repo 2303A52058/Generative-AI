{
  "nbformat": 4,
  "nbformat_minor": 0,
  "metadata": {
    "colab": {
      "provenance": [],
      "authorship_tag": "ABX9TyM5d0w5hGd1qpblU+xSVKZI",
      "include_colab_link": true
    },
    "kernelspec": {
      "name": "python3",
      "display_name": "Python 3"
    },
    "language_info": {
      "name": "python"
    }
  },
  "cells": [
    {
      "cell_type": "markdown",
      "metadata": {
        "id": "view-in-github",
        "colab_type": "text"
      },
      "source": [
        "<a href=\"https://colab.research.google.com/github/2303A52058/Generative-AI/blob/main/Gen_AI_exam2.ipynb\" target=\"_parent\"><img src=\"https://colab.research.google.com/assets/colab-badge.svg\" alt=\"Open In Colab\"/></a>"
      ]
    },
    {
      "cell_type": "code",
      "execution_count": null,
      "metadata": {
        "colab": {
          "base_uri": "https://localhost:8080/"
        },
        "id": "c7uskHSB3V2k",
        "outputId": "9fa35c76-14fa-4036-8e30-2cf2b575ff2a"
      },
      "outputs": [
        {
          "output_type": "stream",
          "name": "stdout",
          "text": [
            "\n",
            "--- Binary Crossentropy ---\n"
          ]
        },
        {
          "output_type": "stream",
          "name": "stderr",
          "text": [
            "/usr/local/lib/python3.11/dist-packages/keras/src/layers/core/dense.py:87: UserWarning: Do not pass an `input_shape`/`input_dim` argument to a layer. When using Sequential models, prefer using an `Input(shape)` object as the first layer in the model instead.\n",
            "  super().__init__(activity_regularizer=activity_regularizer, **kwargs)\n"
          ]
        },
        {
          "output_type": "stream",
          "name": "stdout",
          "text": [
            "Test Accuracy: 0.7437, Loss: 0.5140\n",
            "\n",
            "--- Mean Squared Error ---\n",
            "Test Accuracy: 0.7406, Loss: 0.1739\n"
          ]
        }
      ],
      "source": [
        "import pandas as pd\n",
        "import tensorflow as tf\n",
        "from sklearn.model_selection import train_test_split\n",
        "from sklearn.preprocessing import StandardScaler\n",
        "\n",
        "# Load the Wine Quality dataset\n",
        "# Use the red wine dataset\n",
        "url = \"https://archive.ics.uci.edu/ml/machine-learning-databases/wine-quality/winequality-red.csv\"\n",
        "df = pd.read_csv(url, sep=';')\n",
        "\n",
        "# Convert quality to binary classification: good (>=6) vs bad (<6)\n",
        "df['quality'] = (df['quality'] >= 6).astype(int)\n",
        "\n",
        "# Split data\n",
        "X = df.drop('quality', axis=1).values\n",
        "y = df['quality'].values\n",
        "\n",
        "# Scale the features\n",
        "scaler = StandardScaler()\n",
        "X_scaled = scaler.fit_transform(X)\n",
        "\n",
        "# Split train and test sets\n",
        "X_train, X_test, y_train, y_test = train_test_split(X_scaled, y, test_size=0.2, random_state=42)\n",
        "\n",
        "# Function to build model\n",
        "def build_model(loss_fn):\n",
        "    model = tf.keras.Sequential([\n",
        "        tf.keras.layers.Dense(128, activation='sigmoid', input_shape=(X.shape[1],)),\n",
        "        tf.keras.layers.Dense(64, activation='sigmoid'),\n",
        "        tf.keras.layers.Dense(1, activation='sigmoid')\n",
        "    ])\n",
        "    model.compile(optimizer='adam', loss=loss_fn, metrics=['accuracy'])\n",
        "    return model\n",
        "\n",
        "# Train and compare using Binary Crossentropy\n",
        "print(\"\\n--- Binary Crossentropy ---\")\n",
        "model_bce = build_model('binary_crossentropy')\n",
        "model_bce.fit(X_train, y_train, epochs=50, verbose=0)\n",
        "loss_bce, acc_bce = model_bce.evaluate(X_test, y_test, verbose=0)\n",
        "print(f\"Test Accuracy: {acc_bce:.4f}, Loss: {loss_bce:.4f}\")\n",
        "\n",
        "# Train and compare using Mean Squared Error\n",
        "print(\"\\n--- Mean Squared Error ---\")\n",
        "model_mse = build_model('mean_squared_error')\n",
        "model_mse.fit(X_train, y_train, epochs=50, verbose=0)\n",
        "loss_mse, acc_mse = model_mse.evaluate(X_test, y_test, verbose=0)\n",
        "print(f\"Test Accuracy: {acc_mse:.4f}, Loss: {loss_mse:.4f}\")"
      ]
    }
  ]
}